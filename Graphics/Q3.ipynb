{
 "cells": [
  {
   "cell_type": "code",
   "execution_count": 2,
   "metadata": {},
   "outputs": [
    {
     "name": "stdout",
     "output_type": "stream",
     "text": [
      "Clipped line coordinates: (0, 50.0, 100, 50.0)\n"
     ]
    }
   ],
   "source": [
    "def clip_line(x1, y1, x2, y2, screen_width, screen_height):\n",
    "    if (x1 < 0 and x2 < 0) or (x1 > screen_width and x2 > screen_width) or \\\n",
    "       (y1 < 0 and y2 < 0) or (y1 > screen_height and y2 > screen_height):\n",
    "        return None\n",
    "\n",
    "    if x1 < 0:\n",
    "        y1 = y1 + (y2 - y1) * (-x1) / (x2 - x1)\n",
    "        x1 = 0\n",
    "    elif x1 > screen_width:\n",
    "        y1 = y1 + (y2 - y1) * (screen_width - x1) / (x2 - x1)\n",
    "        x1 = screen_width\n",
    "\n",
    "    if x2 < 0:\n",
    "        y2 = y1 + (y2 - y1) * (-x1) / (x2 - x1)\n",
    "        x2 = 0\n",
    "    elif x2 > screen_width:\n",
    "        y2 = y1 + (y2 - y1) * (screen_width - x1) / (x2 - x1)\n",
    "        x2 = screen_width\n",
    "\n",
    "    if y1 < 0:\n",
    "        x1 = x1 + (x2 - x1) * (-y1) / (y2 - y1)\n",
    "        y1 = 0\n",
    "    elif y1 > screen_height:\n",
    "        x1 = x1 + (x2 - x1) * (screen_height - y1) / (y2 - y1)\n",
    "        y1 = screen_height\n",
    "\n",
    "    if y2 < 0:\n",
    "        x2 = x1 + (x2 - x1) * (-y1) / (y2 - y1)\n",
    "        y2 = 0\n",
    "    elif y2 > screen_height:\n",
    "        x2 = x1 + (x2 - x1) * (screen_height - y1) / (y2 - y1)\n",
    "        y2 = screen_height\n",
    "\n",
    "    return x1, y1, x2, y2\n",
    "\n",
    "x1 = int(input(\"Enter x1: \"))\n",
    "y1 = int(input(\"Enter y1: \"))\n",
    "x2 = int(input(\"Enter x2: \"))\n",
    "y2 = int(input(\"Enter y2: \"))\n",
    "screen_width = int(input(\"Enter screen width: \"))\n",
    "screen_height = int(input(\"Enter screen height: \"))\n",
    "\n",
    "clipped_line = clip_line(x1, y1, x2, y2, screen_width, screen_height)\n",
    "if clipped_line is not None:\n",
    "    print(\"Clipped line coordinates:\", clipped_line)\n",
    "else:\n",
    "    print(\"The line is completely outside the screen.\")\n"
   ]
  }
 ],
 "metadata": {
  "kernelspec": {
   "display_name": "Python 3",
   "language": "python",
   "name": "python3"
  },
  "language_info": {
   "codemirror_mode": {
    "name": "ipython",
    "version": 3
   },
   "file_extension": ".py",
   "mimetype": "text/x-python",
   "name": "python",
   "nbconvert_exporter": "python",
   "pygments_lexer": "ipython3",
   "version": "3.10.12"
  }
 },
 "nbformat": 4,
 "nbformat_minor": 2
}
