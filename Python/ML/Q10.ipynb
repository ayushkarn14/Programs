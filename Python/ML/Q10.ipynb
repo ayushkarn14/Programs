{
 "cells": [
  {
   "cell_type": "markdown",
   "metadata": {},
   "source": [
    "<h2>Not done</h2>\n",
    "\n",
    "Create a linear regression model using the gradient descent method. Create a class to\n",
    "represent the model with the following functions - init, fit and predict. Find the best fit line for the\n",
    "dataset Also find the MSE and R2 for the testing dataset."
   ]
  },
  {
   "cell_type": "code",
   "execution_count": 1,
   "metadata": {},
   "outputs": [],
   "source": [
    "import numpy as np\n",
    "\n",
    "class LinearRegression:\n",
    "    def __init__(self, learning_rate=0.01, num_iterations=1000):\n",
    "        self.learning_rate = learning_rate\n",
    "        self.num_iterations = num_iterations\n",
    "        self.weights = None\n",
    "        self.bias = None\n",
    "    \n",
    "    def fit(self, X, y):\n",
    "        num_samples, num_features = X.shape\n",
    "        self.weights = np.zeros(num_features)\n",
    "        self.bias = 0\n",
    "        \n",
    "        for _ in range(self.num_iterations):\n",
    "            y_pred = np.dot(X, self.weights) + self.bias\n",
    "            dw = (1/num_samples) * np.dot(X.T, (y_pred - y))\n",
    "            db = (1/num_samples) * np.sum(y_pred - y)\n",
    "            \n",
    "            self.weights -= self.learning_rate * dw\n",
    "            self.bias -= self.learning_rate * db\n",
    "    \n",
    "    def predict(self, X):\n",
    "        return np.dot(X, self.weights) + self.bias\n"
   ]
  },
  {
   "cell_type": "code",
   "execution_count": null,
   "metadata": {},
   "outputs": [],
   "source": [
    "import pandas as pd\n",
    "import numpy as np\n",
    "\n",
    "data = pd.read_csv('Advertising.csv')\n",
    "data.drop(\"Index\",axis=1,inplace=True)\n",
    "data.head()\n",
    "\n",
    "# Define the features (input attributes)\n",
    "X = data[['TV', 'Radio', 'Newspaper']].values"
   ]
  }
 ],
 "metadata": {
  "kernelspec": {
   "display_name": "Python 3",
   "language": "python",
   "name": "python3"
  },
  "language_info": {
   "codemirror_mode": {
    "name": "ipython",
    "version": 3
   },
   "file_extension": ".py",
   "mimetype": "text/x-python",
   "name": "python",
   "nbconvert_exporter": "python",
   "pygments_lexer": "ipython3",
   "version": "3.10.12"
  }
 },
 "nbformat": 4,
 "nbformat_minor": 2
}
