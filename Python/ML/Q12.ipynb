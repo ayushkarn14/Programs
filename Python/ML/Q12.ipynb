{
 "cells": [
  {
   "cell_type": "markdown",
   "metadata": {},
   "source": [
    "Consider the dataset iris. Apply the PCA method to select the best 2 features. Using these\n",
    "features plot the scatter graph. Apply k-means clustering algorithm to cluster the transformed\n",
    "dataset into 3 clusters."
   ]
  },
  {
   "cell_type": "code",
   "execution_count": 28,
   "metadata": {},
   "outputs": [
    {
     "name": "stderr",
     "output_type": "stream",
     "text": [
      "/tmp/ipykernel_57527/1345684833.py:5: DeprecationWarning: \n",
      "Pyarrow will become a required dependency of pandas in the next major release of pandas (pandas 3.0),\n",
      "(to allow more performant data types, such as the Arrow string type, and better interoperability with other libraries)\n",
      "but was not found to be installed on your system.\n",
      "If this would cause problems for you,\n",
      "please provide us feedback at https://github.com/pandas-dev/pandas/issues/54466\n",
      "        \n",
      "  import pandas as pd\n"
     ]
    }
   ],
   "source": [
    "from sklearn.datasets import load_iris\n",
    "from sklearn.decomposition import PCA\n",
    "from sklearn.cluster import KMeans\n",
    "from sklearn.preprocessing import StandardScaler\n",
    "import pandas as pd"
   ]
  },
  {
   "cell_type": "code",
   "execution_count": 29,
   "metadata": {},
   "outputs": [],
   "source": [
    "iris=load_iris()\n",
    "x=iris.data\n",
    "y=iris.target"
   ]
  },
  {
   "cell_type": "code",
   "execution_count": 30,
   "metadata": {},
   "outputs": [
    {
     "name": "stdout",
     "output_type": "stream",
     "text": [
      "[[-2.26470281  0.4800266 ]\n",
      " [-2.08096115 -0.67413356]\n",
      " [-2.36422905 -0.34190802]\n",
      " [-2.29938422 -0.59739451]\n",
      " [-2.38984217  0.64683538]\n",
      " [-2.07563095  1.48917752]\n",
      " [-2.44402884  0.0476442 ]\n",
      " [-2.23284716  0.22314807]\n",
      " [-2.33464048 -1.11532768]\n",
      " [-2.18432817 -0.46901356]\n",
      " [-2.1663101   1.04369065]\n",
      " [-2.32613087  0.13307834]\n",
      " [-2.2184509  -0.72867617]\n",
      " [-2.6331007  -0.96150673]\n",
      " [-2.1987406   1.86005711]\n",
      " [-2.26221453  2.68628449]\n",
      " [-2.2075877   1.48360936]\n",
      " [-2.19034951  0.48883832]\n",
      " [-1.898572    1.40501879]\n",
      " [-2.34336905  1.12784938]\n",
      " [-1.914323    0.40885571]\n",
      " [-2.20701284  0.92412143]\n",
      " [-2.7743447   0.45834367]\n",
      " [-1.81866953  0.08555853]\n",
      " [-2.22716331  0.13725446]\n",
      " [-1.95184633 -0.62561859]\n",
      " [-2.05115137  0.24216355]\n",
      " [-2.16857717  0.52714953]\n",
      " [-2.13956345  0.31321781]\n",
      " [-2.26526149 -0.3377319 ]\n",
      " [-2.14012214 -0.50454069]\n",
      " [-1.83159477  0.42369507]\n",
      " [-2.61494794  1.79357586]\n",
      " [-2.44617739  2.15072788]\n",
      " [-2.10997488 -0.46020184]\n",
      " [-2.2078089  -0.2061074 ]\n",
      " [-2.04514621  0.66155811]\n",
      " [-2.52733191  0.59229277]\n",
      " [-2.42963258 -0.90418004]\n",
      " [-2.16971071  0.26887896]\n",
      " [-2.28647514  0.44171539]\n",
      " [-1.85812246 -2.33741516]\n",
      " [-2.5536384  -0.47910069]\n",
      " [-1.96444768  0.47232667]\n",
      " [-2.13705901  1.14222926]\n",
      " [-2.0697443  -0.71105273]\n",
      " [-2.38473317  1.1204297 ]\n",
      " [-2.39437631 -0.38624687]\n",
      " [-2.22944655  0.99795976]\n",
      " [-2.20383344  0.00921636]\n",
      " [ 1.10178118  0.86297242]\n",
      " [ 0.73133743  0.59461473]\n",
      " [ 1.24097932  0.61629765]\n",
      " [ 0.40748306 -1.75440399]\n",
      " [ 1.0754747  -0.20842105]\n",
      " [ 0.38868734 -0.59328364]\n",
      " [ 0.74652974  0.77301931]\n",
      " [-0.48732274 -1.85242909]\n",
      " [ 0.92790164  0.03222608]\n",
      " [ 0.01142619 -1.03401828]\n",
      " [-0.11019628 -2.65407282]\n",
      " [ 0.44069345 -0.06329519]\n",
      " [ 0.56210831 -1.76472438]\n",
      " [ 0.71956189 -0.18622461]\n",
      " [-0.0333547  -0.43900321]\n",
      " [ 0.87540719  0.50906396]\n",
      " [ 0.35025167 -0.19631173]\n",
      " [ 0.15881005 -0.79209574]\n",
      " [ 1.22509363 -1.6222438 ]\n",
      " [ 0.1649179  -1.30260923]\n",
      " [ 0.73768265  0.39657156]\n",
      " [ 0.47628719 -0.41732028]\n",
      " [ 1.2341781  -0.93332573]\n",
      " [ 0.6328582  -0.41638772]\n",
      " [ 0.70266118 -0.06341182]\n",
      " [ 0.87427365  0.25079339]\n",
      " [ 1.25650912 -0.07725602]\n",
      " [ 1.35840512  0.33131168]\n",
      " [ 0.66480037 -0.22592785]\n",
      " [-0.04025861 -1.05871855]\n",
      " [ 0.13079518 -1.56227183]\n",
      " [ 0.02345269 -1.57247559]\n",
      " [ 0.24153827 -0.77725638]\n",
      " [ 1.06109461 -0.63384324]\n",
      " [ 0.22397877 -0.28777351]\n",
      " [ 0.42913912  0.84558224]\n",
      " [ 1.04872805  0.5220518 ]\n",
      " [ 1.04453138 -1.38298872]\n",
      " [ 0.06958832 -0.21950333]\n",
      " [ 0.28347724 -1.32932464]\n",
      " [ 0.27907778 -1.12002852]\n",
      " [ 0.62456979  0.02492303]\n",
      " [ 0.33653037 -0.98840402]\n",
      " [-0.36218338 -2.01923787]\n",
      " [ 0.28858624 -0.85573032]\n",
      " [ 0.09136066 -0.18119213]\n",
      " [ 0.22771687 -0.38492008]\n",
      " [ 0.57638829 -0.1548736 ]\n",
      " [-0.44766702 -1.54379203]\n",
      " [ 0.25673059 -0.5988518 ]\n",
      " [ 1.84456887  0.87042131]\n",
      " [ 1.15788161 -0.69886986]\n",
      " [ 2.20526679  0.56201048]\n",
      " [ 1.44015066 -0.04698759]\n",
      " [ 1.86781222  0.29504482]\n",
      " [ 2.75187334  0.8004092 ]\n",
      " [ 0.36701769 -1.56150289]\n",
      " [ 2.30243944  0.42006558]\n",
      " [ 2.00668647 -0.71143865]\n",
      " [ 2.25977735  1.92101038]\n",
      " [ 1.36417549  0.69275645]\n",
      " [ 1.60267867 -0.42170045]\n",
      " [ 1.8839007   0.41924965]\n",
      " [ 1.2601151  -1.16226042]\n",
      " [ 1.4676452  -0.44227159]\n",
      " [ 1.59007732  0.67624481]\n",
      " [ 1.47143146  0.25562182]\n",
      " [ 2.42632899  2.55666125]\n",
      " [ 3.31069558  0.01778095]\n",
      " [ 1.26376667 -1.70674538]\n",
      " [ 2.0377163   0.91046741]\n",
      " [ 0.97798073 -0.57176432]\n",
      " [ 2.89765149  0.41364106]\n",
      " [ 1.33323218 -0.48181122]\n",
      " [ 1.7007339   1.01392187]\n",
      " [ 1.95432671  1.0077776 ]\n",
      " [ 1.17510363 -0.31639447]\n",
      " [ 1.02095055  0.06434603]\n",
      " [ 1.78834992 -0.18736121]\n",
      " [ 1.86364755  0.56229073]\n",
      " [ 2.43595373  0.25928443]\n",
      " [ 2.30492772  2.62632347]\n",
      " [ 1.86270322 -0.17854949]\n",
      " [ 1.11414774 -0.29292262]\n",
      " [ 1.2024733  -0.81131527]\n",
      " [ 2.79877045  0.85680333]\n",
      " [ 1.57625591  1.06858111]\n",
      " [ 1.3462921   0.42243061]\n",
      " [ 0.92482492  0.0172231 ]\n",
      " [ 1.85204505  0.67612817]\n",
      " [ 2.01481043  0.61388564]\n",
      " [ 1.90178409  0.68957549]\n",
      " [ 1.15788161 -0.69886986]\n",
      " [ 2.04055823  0.8675206 ]\n",
      " [ 1.9981471   1.04916875]\n",
      " [ 1.87050329  0.38696608]\n",
      " [ 1.56458048 -0.89668681]\n",
      " [ 1.5211705   0.26906914]\n",
      " [ 1.37278779  1.01125442]\n",
      " [ 0.96065603 -0.02433167]]\n"
     ]
    }
   ],
   "source": [
    "scaler=StandardScaler()\n",
    "x=scaler.fit_transform(x)\n",
    "\n",
    "pca=PCA(n_components=2)\n",
    "x_pca=pca.fit_transform(x)\n",
    "print(x_pca)"
   ]
  },
  {
   "cell_type": "code",
   "execution_count": 31,
   "metadata": {},
   "outputs": [
    {
     "data": {
      "text/plain": [
       "<matplotlib.collections.PathCollection at 0x716488b1b430>"
      ]
     },
     "execution_count": 31,
     "metadata": {},
     "output_type": "execute_result"
    },
    {
     "data": {
      "image/png": "[encoded data removed]",
      "text/plain": [
       "<Figure size 640x480 with 1 Axes>"
      ]
     },
     "metadata": {},
     "output_type": "display_data"
    }
   ],
   "source": [
    "import matplotlib.pyplot as plt\n",
    "\n",
    "xes=x_pca[:,0]\n",
    "yes=x_pca[:,1]\n",
    "plt.scatter(xes,yes)"
   ]
  },
  {
   "cell_type": "code",
   "execution_count": 32,
   "metadata": {},
   "outputs": [
    {
     "name": "stdout",
     "output_type": "stream",
     "text": [
      "Cluster centers at : \n",
      " [[ 0.57262144 -0.80720888]\n",
      " [-2.22475316  0.28892745]\n",
      " [ 1.72103664  0.60288719]]\n"
     ]
    },
    {
     "data": {
      "text/plain": [
       "array([1, 1, 1, 1, 1, 1, 1, 1, 1, 1, 1, 1, 1, 1, 1, 1, 1, 1, 1, 1, 1, 1,\n",
       "       1, 1, 1, 1, 1, 1, 1, 1, 1, 1, 1, 1, 1, 1, 1, 1, 1, 1, 1, 1, 1, 1,\n",
       "       1, 1, 1, 1, 1, 1, 2, 2, 2, 0, 0, 0, 2, 0, 0, 0, 0, 0, 0, 0, 0, 2,\n",
       "       0, 0, 0, 0, 2, 0, 0, 0, 0, 2, 2, 2, 0, 0, 0, 0, 0, 0, 0, 2, 2, 0,\n",
       "       0, 0, 0, 0, 0, 0, 0, 0, 0, 0, 0, 0, 2, 0, 2, 2, 2, 2, 0, 2, 2, 2,\n",
       "       2, 2, 2, 0, 0, 2, 2, 2, 2, 0, 2, 0, 2, 0, 2, 2, 0, 2, 2, 2, 2, 2,\n",
       "       2, 0, 0, 2, 2, 2, 0, 2, 2, 2, 0, 2, 2, 2, 0, 2, 2, 0], dtype=int32)"
      ]
     },
     "execution_count": 32,
     "metadata": {},
     "output_type": "execute_result"
    }
   ],
   "source": [
    "kmeans = KMeans(n_clusters=3, random_state=0, n_init=500)\n",
    "kmeans.fit(x_pca)\n",
    "print(\"Cluster centers at : \\n\",kmeans.cluster_centers_)\n",
    "kmeans.labels_"
   ]
  },
  {
   "cell_type": "code",
   "execution_count": 46,
   "metadata": {},
   "outputs": [
    {
     "data": {
      "text/html": [
       "<div>\n",
       "<style scoped>\n",
       "    .dataframe tbody tr th:only-of-type {\n",
       "        vertical-align: middle;\n",
       "    }\n",
       "\n",
       "    .dataframe tbody tr th {\n",
       "        vertical-align: top;\n",
       "    }\n",
       "\n",
       "    .dataframe thead th {\n",
       "        text-align: right;\n",
       "    }\n",
       "</style>\n",
       "<table border=\"1\" class=\"dataframe\">\n",
       "  <thead>\n",
       "    <tr style=\"text-align: right;\">\n",
       "      <th></th>\n",
       "      <th>F1</th>\n",
       "      <th>F2</th>\n",
       "      <th>Class</th>\n",
       "    </tr>\n",
       "  </thead>\n",
       "  <tbody>\n",
       "    <tr>\n",
       "      <th>0</th>\n",
       "      <td>-2.264703</td>\n",
       "      <td>0.480027</td>\n",
       "      <td>1.0</td>\n",
       "    </tr>\n",
       "    <tr>\n",
       "      <th>1</th>\n",
       "      <td>-2.080961</td>\n",
       "      <td>-0.674134</td>\n",
       "      <td>1.0</td>\n",
       "    </tr>\n",
       "    <tr>\n",
       "      <th>2</th>\n",
       "      <td>-2.364229</td>\n",
       "      <td>-0.341908</td>\n",
       "      <td>1.0</td>\n",
       "    </tr>\n",
       "    <tr>\n",
       "      <th>3</th>\n",
       "      <td>-2.299384</td>\n",
       "      <td>-0.597395</td>\n",
       "      <td>1.0</td>\n",
       "    </tr>\n",
       "    <tr>\n",
       "      <th>4</th>\n",
       "      <td>-2.389842</td>\n",
       "      <td>0.646835</td>\n",
       "      <td>1.0</td>\n",
       "    </tr>\n",
       "    <tr>\n",
       "      <th>...</th>\n",
       "      <td>...</td>\n",
       "      <td>...</td>\n",
       "      <td>...</td>\n",
       "    </tr>\n",
       "    <tr>\n",
       "      <th>145</th>\n",
       "      <td>1.870503</td>\n",
       "      <td>0.386966</td>\n",
       "      <td>2.0</td>\n",
       "    </tr>\n",
       "    <tr>\n",
       "      <th>146</th>\n",
       "      <td>1.564580</td>\n",
       "      <td>-0.896687</td>\n",
       "      <td>0.0</td>\n",
       "    </tr>\n",
       "    <tr>\n",
       "      <th>147</th>\n",
       "      <td>1.521170</td>\n",
       "      <td>0.269069</td>\n",
       "      <td>2.0</td>\n",
       "    </tr>\n",
       "    <tr>\n",
       "      <th>148</th>\n",
       "      <td>1.372788</td>\n",
       "      <td>1.011254</td>\n",
       "      <td>2.0</td>\n",
       "    </tr>\n",
       "    <tr>\n",
       "      <th>149</th>\n",
       "      <td>0.960656</td>\n",
       "      <td>-0.024332</td>\n",
       "      <td>0.0</td>\n",
       "    </tr>\n",
       "  </tbody>\n",
       "</table>\n",
       "<p>150 rows × 3 columns</p>\n",
       "</div>"
      ],
      "text/plain": [
       "           F1        F2  Class\n",
       "0   -2.264703  0.480027    1.0\n",
       "1   -2.080961 -0.674134    1.0\n",
       "2   -2.364229 -0.341908    1.0\n",
       "3   -2.299384 -0.597395    1.0\n",
       "4   -2.389842  0.646835    1.0\n",
       "..        ...       ...    ...\n",
       "145  1.870503  0.386966    2.0\n",
       "146  1.564580 -0.896687    0.0\n",
       "147  1.521170  0.269069    2.0\n",
       "148  1.372788  1.011254    2.0\n",
       "149  0.960656 -0.024332    0.0\n",
       "\n",
       "[150 rows x 3 columns]"
      ]
     },
     "execution_count": 46,
     "metadata": {},
     "output_type": "execute_result"
    }
   ],
   "source": [
    "df=pd.DataFrame([xes,yes,kmeans.labels_])\n",
    "df=df.T\n",
    "df.columns=['F1','F2','Class']\n",
    "df"
   ]
  },
  {
   "cell_type": "code",
   "execution_count": 55,
   "metadata": {},
   "outputs": [
    {
     "data": {
      "text/plain": [
       "<matplotlib.collections.PathCollection at 0x7164835d5090>"
      ]
     },
     "execution_count": 55,
     "metadata": {},
     "output_type": "execute_result"
    },
    {
     "data": {
      "image/png": "[encoded data removed]",
      "text/plain": [
       "<Figure size 640x480 with 1 Axes>"
      ]
     },
     "metadata": {},
     "output_type": "display_data"
    }
   ],
   "source": [
    "plt.scatter(df[df['Class'] == 0.0]['F1'],df[df['Class'] == 0.0]['F2'],c='red')\n",
    "plt.scatter(df[df['Class'] == 1.0]['F1'],df[df['Class'] == 1.0]['F2'],c='blue')\n",
    "plt.scatter(df[df['Class'] == 2.0]['F1'],df[df['Class'] == 2.0]['F2'],c='green')"
   ]
  },
  {
   "cell_type": "code",
   "execution_count": null,
   "metadata": {},
   "outputs": [],
   "source": []
  }
 ],
 "metadata": {
  "kernelspec": {
   "display_name": "Python 3",
   "language": "python",
   "name": "python3"
  },
  "language_info": {
   "codemirror_mode": {
    "name": "ipython",
    "version": 3
   },
   "file_extension": ".py",
   "mimetype": "text/x-python",
   "name": "python",
   "nbconvert_exporter": "python",
   "pygments_lexer": "ipython3",
   "version": "3.10.12"
  }
 },
 "nbformat": 4,
 "nbformat_minor": 2
}
