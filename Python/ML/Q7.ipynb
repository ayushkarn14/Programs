{
 "cells": [
  {
   "cell_type": "code",
   "execution_count": 1,
   "metadata": {},
   "outputs": [
    {
     "name": "stderr",
     "output_type": "stream",
     "text": [
      "/tmp/ipykernel_23790/987454133.py:1: DeprecationWarning: \n",
      "Pyarrow will become a required dependency of pandas in the next major release of pandas (pandas 3.0),\n",
      "(to allow more performant data types, such as the Arrow string type, and better interoperability with other libraries)\n",
      "but was not found to be installed on your system.\n",
      "If this would cause problems for you,\n",
      "please provide us feedback at https://github.com/pandas-dev/pandas/issues/54466\n",
      "        \n",
      "  import pandas as pd\n",
      "/tmp/ipykernel_23790/987454133.py:26: RuntimeWarning: overflow encountered in square\n",
      "  SSR = np.sum((y_pred - y.mean())**2)\n"
     ]
    },
    {
     "data": {
      "text/plain": [
       "-inf"
      ]
     },
     "execution_count": 1,
     "metadata": {},
     "output_type": "execute_result"
    }
   ],
   "source": [
    "#incomplete\n",
    "import pandas as pd\n",
    "import numpy as np\n",
    "\n",
    "data = pd.read_csv('Advertising.csv')\n",
    "\n",
    "X = data[['TV', 'Radio', 'Newspaper']]\n",
    "y = data['Sales']\n",
    "\n",
    "X = (X - X.mean()) / X.std()\n",
    "\n",
    "np.random.seed(0)\n",
    "weights = np.random.randn(3)\n",
    "\n",
    "learning_rate = 0.01\n",
    "iterations = 1000\n",
    "\n",
    "for i in range(iterations):\n",
    "    y_pred = np.dot(X, weights)\n",
    "    \n",
    "    error = y_pred - y\n",
    "    \n",
    "    weights -= learning_rate * np.dot(X.T, error)\n",
    "    \n",
    "y_pred = np.dot(X, weights)\n",
    "\n",
    "SSR = np.sum((y_pred - y.mean())**2)\n",
    "SST = np.sum((y - y.mean())**2)\n",
    "R2 = 1 - (SSR / SST)\n",
    "\n",
    "R2\n"
   ]
  }
 ],
 "metadata": {
  "kernelspec": {
   "display_name": "Python 3",
   "language": "python",
   "name": "python3"
  },
  "language_info": {
   "codemirror_mode": {
    "name": "ipython",
    "version": 3
   },
   "file_extension": ".py",
   "mimetype": "text/x-python",
   "name": "python",
   "nbconvert_exporter": "python",
   "pygments_lexer": "ipython3",
   "version": "3.10.12"
  }
 },
 "nbformat": 4,
 "nbformat_minor": 2
}
