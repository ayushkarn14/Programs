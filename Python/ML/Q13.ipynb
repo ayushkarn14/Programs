{
 "cells": [
  {
   "cell_type": "code",
   "execution_count": 20,
   "metadata": {},
   "outputs": [
    {
     "name": "stdout",
     "output_type": "stream",
     "text": [
      "Inputs: [0 0 0] Prediction: 0\n",
      "Inputs: [0 0 1] Prediction: 0\n",
      "Inputs: [0 1 0] Prediction: 0\n",
      "Inputs: [0 1 1] Prediction: 0\n",
      "Inputs: [1 0 0] Prediction: 0\n",
      "Inputs: [1 0 1] Prediction: 0\n",
      "Inputs: [1 1 0] Prediction: 0\n",
      "Inputs: [1 1 1] Prediction: 1\n"
     ]
    }
   ],
   "source": [
    "import numpy as np\n",
    "\n",
    "class Perceptron:\n",
    "    def __init__(self, input_size, learning_rate=0.01, epochs=100):\n",
    "        self.weights = np.random.rand(input_size)\n",
    "        self.bias = np.random.rand()\n",
    "        self.learning_rate = learning_rate\n",
    "        self.epochs = epochs\n",
    "\n",
    "    def activation_function(self, x):\n",
    "        return 1 if x >= 0 else 0\n",
    "\n",
    "    def predict(self, inputs):\n",
    "        summation = np.dot(inputs, self.weights) + self.bias\n",
    "        return self.activation_function(summation)\n",
    "\n",
    "    def train(self, training_inputs, labels):\n",
    "        for _ in range(self.epochs):\n",
    "            for inputs, label in zip(training_inputs, labels):\n",
    "                prediction = self.predict(inputs)\n",
    "                error = label - prediction\n",
    "                self.weights += self.learning_rate * error * inputs\n",
    "                self.bias += self.learning_rate * error\n",
    "\n",
    "if __name__ == \"__main__\":\n",
    "    # Define the AND problem inputs and labels\n",
    "    training_inputs = np.array([[0, 0, 0], [0, 0, 1], [0, 1, 0], [0, 1, 1], [1, 0, 0], [1, 0, 1], [1, 1, 0], [1, 1, 1]])\n",
    "    labels = np.array([0, 0, 0, 0, 0, 0, 0, 1])\n",
    "\n",
    "    # Create and train the perceptron model\n",
    "    perceptron = Perceptron(input_size=3)\n",
    "    perceptron.train(training_inputs, labels)\n",
    "\n",
    "    # Test the trained model\n",
    "    test_inputs = np.array([[0, 0, 0], [0, 0, 1], [0, 1, 0], [0, 1, 1], [1, 0, 0], [1, 0, 1], [1, 1, 0], [1, 1, 1]])\n",
    "    for inputs in test_inputs:\n",
    "        prediction = perceptron.predict(inputs)\n",
    "        print(f\"Inputs: {inputs} Prediction: {prediction}\")\n"
   ]
  },
  {
   "cell_type": "code",
   "execution_count": 21,
   "metadata": {},
   "outputs": [
    {
     "name": "stdout",
     "output_type": "stream",
     "text": [
      "Inputs: [0 0 0] Prediction: 0\n",
      "Inputs: [0 0 1] Prediction: 0\n",
      "Inputs: [0 1 0] Prediction: 0\n",
      "Inputs: [0 1 1] Prediction: 0\n",
      "Inputs: [1 0 0] Prediction: 0\n",
      "Inputs: [1 0 1] Prediction: 1\n",
      "Inputs: [1 1 0] Prediction: 1\n",
      "Inputs: [1 1 1] Prediction: 1\n"
     ]
    }
   ],
   "source": [
    "from sklearn.linear_model import Perceptron\n",
    "import numpy as np\n",
    "\n",
    "if __name__ == \"__main__\":\n",
    "    # Define the AND problem inputs and labels\n",
    "    training_inputs = np.array([[0, 0, 0], [0, 0, 1], [0, 1, 0], [0, 1, 1], [1, 0, 0], [1, 0, 1], [1, 1, 0], [1, 1, 1]])\n",
    "    labels = np.array([0, 0, 0, 0, 0, 0, 0, 1])\n",
    "\n",
    "    # Create and train the Perceptron model\n",
    "    perceptron = Perceptron()\n",
    "    perceptron.fit(training_inputs, labels)\n",
    "\n",
    "    # Test the trained model\n",
    "    test_inputs = np.array([[0, 0, 0], [0, 0, 1], [0, 1, 0], [0, 1, 1], [1, 0, 0], [1, 0, 1], [1, 1, 0], [1, 1, 1]])\n",
    "    predictions = perceptron.predict(test_inputs)\n",
    "    \n",
    "    # Display predictions\n",
    "    for inputs, prediction in zip(test_inputs, predictions):\n",
    "        print(f\"Inputs: {inputs} Prediction: {prediction}\")\n"
   ]
  }
 ],
 "metadata": {
  "kernelspec": {
   "display_name": "Python 3",
   "language": "python",
   "name": "python3"
  },
  "language_info": {
   "codemirror_mode": {
    "name": "ipython",
    "version": 3
   },
   "file_extension": ".py",
   "mimetype": "text/x-python",
   "name": "python",
   "nbconvert_exporter": "python",
   "pygments_lexer": "ipython3",
   "version": "3.10.12"
  }
 },
 "nbformat": 4,
 "nbformat_minor": 2
}
