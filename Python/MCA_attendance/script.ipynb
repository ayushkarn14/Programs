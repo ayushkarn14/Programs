{
 "cells": [
  {
   "cell_type": "code",
   "execution_count": 159,
   "metadata": {},
   "outputs": [
    {
     "data": {
      "text/plain": [
       "'OOPs Theory 25-09-2024.pdf'"
      ]
     },
     "execution_count": 159,
     "metadata": {},
     "output_type": "execute_result"
    }
   ],
   "source": [
    "subject=\"OOPs Theory\"\n",
    "date=\"25-09-2024\"\n",
    "section=\"2\"\n",
    "pdf_name=f\"{subject} {date}.pdf\"\n",
    "pdf_name"
   ]
  },
  {
   "cell_type": "code",
   "execution_count": 160,
   "metadata": {},
   "outputs": [],
   "source": [
    "import pandas as pd\n",
    "from reportlab.platypus import SimpleDocTemplate, Table, TableStyle,Paragraph\n",
    "from reportlab.lib import colors\n",
    "from reportlab.lib.pagesizes import A4\n",
    "from reportlab.lib.styles import getSampleStyleSheet, ParagraphStyle\n",
    "from reportlab.lib.units import inch\n"
   ]
  },
  {
   "cell_type": "code",
   "execution_count": 161,
   "metadata": {},
   "outputs": [
    {
     "data": {
      "text/html": [
       "<div>\n",
       "<style scoped>\n",
       "    .dataframe tbody tr th:only-of-type {\n",
       "        vertical-align: middle;\n",
       "    }\n",
       "\n",
       "    .dataframe tbody tr th {\n",
       "        vertical-align: top;\n",
       "    }\n",
       "\n",
       "    .dataframe thead th {\n",
       "        text-align: right;\n",
       "    }\n",
       "</style>\n",
       "<table border=\"1\" class=\"dataframe\">\n",
       "  <thead>\n",
       "    <tr style=\"text-align: right;\">\n",
       "      <th></th>\n",
       "      <th>Application Number</th>\n",
       "      <th>Name</th>\n",
       "    </tr>\n",
       "  </thead>\n",
       "  <tbody>\n",
       "    <tr>\n",
       "      <th>0</th>\n",
       "      <td>105241000934</td>\n",
       "      <td>Chayanika</td>\n",
       "    </tr>\n",
       "    <tr>\n",
       "      <th>1</th>\n",
       "      <td>105242003318</td>\n",
       "      <td>KUMAR GAURAV</td>\n",
       "    </tr>\n",
       "    <tr>\n",
       "      <th>2</th>\n",
       "      <td>105242003319</td>\n",
       "      <td>SANJANA KUMARI</td>\n",
       "    </tr>\n",
       "    <tr>\n",
       "      <th>3</th>\n",
       "      <td>105242003323</td>\n",
       "      <td>SAAKSHEE PANDEY</td>\n",
       "    </tr>\n",
       "    <tr>\n",
       "      <th>4</th>\n",
       "      <td>105242003342</td>\n",
       "      <td>VINEET KUMAR</td>\n",
       "    </tr>\n",
       "  </tbody>\n",
       "</table>\n",
       "</div>"
      ],
      "text/plain": [
       "   Application Number             Name\n",
       "0        105241000934        Chayanika\n",
       "1        105242003318     KUMAR GAURAV\n",
       "2        105242003319   SANJANA KUMARI\n",
       "3        105242003323  SAAKSHEE PANDEY\n",
       "4        105242003342     VINEET KUMAR"
      ]
     },
     "execution_count": 161,
     "metadata": {},
     "output_type": "execute_result"
    }
   ],
   "source": [
    "students=pd.read_csv('StudentList.csv')\n",
    "students.head()"
   ]
  },
  {
   "cell_type": "code",
   "execution_count": 162,
   "metadata": {},
   "outputs": [
    {
     "data": {
      "text/html": [
       "<div>\n",
       "<style scoped>\n",
       "    .dataframe tbody tr th:only-of-type {\n",
       "        vertical-align: middle;\n",
       "    }\n",
       "\n",
       "    .dataframe tbody tr th {\n",
       "        vertical-align: top;\n",
       "    }\n",
       "\n",
       "    .dataframe thead th {\n",
       "        text-align: right;\n",
       "    }\n",
       "</style>\n",
       "<table border=\"1\" class=\"dataframe\">\n",
       "  <thead>\n",
       "    <tr style=\"text-align: right;\">\n",
       "      <th></th>\n",
       "      <th>Application Number</th>\n",
       "      <th>Name</th>\n",
       "    </tr>\n",
       "  </thead>\n",
       "  <tbody>\n",
       "    <tr>\n",
       "      <th>0</th>\n",
       "      <td>0934</td>\n",
       "      <td>Chayanika</td>\n",
       "    </tr>\n",
       "    <tr>\n",
       "      <th>1</th>\n",
       "      <td>3318</td>\n",
       "      <td>KUMAR GAURAV</td>\n",
       "    </tr>\n",
       "    <tr>\n",
       "      <th>2</th>\n",
       "      <td>3319</td>\n",
       "      <td>SANJANA KUMARI</td>\n",
       "    </tr>\n",
       "    <tr>\n",
       "      <th>3</th>\n",
       "      <td>3323</td>\n",
       "      <td>SAAKSHEE PANDEY</td>\n",
       "    </tr>\n",
       "    <tr>\n",
       "      <th>4</th>\n",
       "      <td>3342</td>\n",
       "      <td>VINEET KUMAR</td>\n",
       "    </tr>\n",
       "    <tr>\n",
       "      <th>...</th>\n",
       "      <td>...</td>\n",
       "      <td>...</td>\n",
       "    </tr>\n",
       "    <tr>\n",
       "      <th>67</th>\n",
       "      <td>4237</td>\n",
       "      <td>ANSHIKA POPLI</td>\n",
       "    </tr>\n",
       "    <tr>\n",
       "      <th>68</th>\n",
       "      <td>4244</td>\n",
       "      <td>Abhilasha Gautam</td>\n",
       "    </tr>\n",
       "    <tr>\n",
       "      <th>69</th>\n",
       "      <td>4254</td>\n",
       "      <td>Himani Pandey</td>\n",
       "    </tr>\n",
       "    <tr>\n",
       "      <th>70</th>\n",
       "      <td>4320</td>\n",
       "      <td>SHIVAM MISHRA</td>\n",
       "    </tr>\n",
       "    <tr>\n",
       "      <th>71</th>\n",
       "      <td>2739</td>\n",
       "      <td>Kunal Deshmukh</td>\n",
       "    </tr>\n",
       "  </tbody>\n",
       "</table>\n",
       "<p>72 rows × 2 columns</p>\n",
       "</div>"
      ],
      "text/plain": [
       "   Application Number               Name\n",
       "0                0934          Chayanika\n",
       "1                3318       KUMAR GAURAV\n",
       "2                3319     SANJANA KUMARI\n",
       "3                3323    SAAKSHEE PANDEY\n",
       "4                3342       VINEET KUMAR\n",
       "..                ...                ...\n",
       "67               4237      ANSHIKA POPLI\n",
       "68               4244  Abhilasha Gautam \n",
       "69               4254      Himani Pandey\n",
       "70               4320      SHIVAM MISHRA\n",
       "71               2739     Kunal Deshmukh\n",
       "\n",
       "[72 rows x 2 columns]"
      ]
     },
     "execution_count": 162,
     "metadata": {},
     "output_type": "execute_result"
    }
   ],
   "source": [
    "students['Application Number']=students['Application Number'].astype(str).str[-4:]\n",
    "students"
   ]
  },
  {
   "cell_type": "code",
   "execution_count": 163,
   "metadata": {},
   "outputs": [],
   "source": [
    "present=pd.read_csv('present.csv')\n",
    "present['Application Number']=present['Application Number'].astype(str)"
   ]
  },
  {
   "cell_type": "code",
   "execution_count": 167,
   "metadata": {},
   "outputs": [
    {
     "data": {
      "text/plain": [
       "Application Number    3\n",
       "Name                  3\n",
       "dtype: int64"
      ]
     },
     "execution_count": 167,
     "metadata": {},
     "output_type": "execute_result"
    }
   ],
   "source": [
    "merged_df = pd.merge(students, present, on='Application Number')\n",
    "merged_df.count()"
   ]
  },
  {
   "cell_type": "code",
   "execution_count": 165,
   "metadata": {},
   "outputs": [
    {
     "name": "stdout",
     "output_type": "stream",
     "text": [
      "PDF created successfully with a title and table.\n"
     ]
    }
   ],
   "source": [
    "\n",
    "pdf = SimpleDocTemplate(\n",
    "    pdf_name, \n",
    "    pagesize=A4,\n",
    "    leftMargin=0.5 * inch,\n",
    "    rightMargin=0.5 * inch,\n",
    "    topMargin=0.4 * inch,\n",
    "    bottomMargin=0.4 * inch\n",
    ")\n",
    "\n",
    "styles = getSampleStyleSheet()\n",
    "title_style = ParagraphStyle(\n",
    "    name='Title',\n",
    "    fontName='Helvetica-Bold',\n",
    "    fontSize=14,\n",
    "    spaceAfter=12,\n",
    "    alignment=1,\n",
    "    spaceBefore=0\n",
    ")\n",
    "title = Paragraph(f\"{subject} {date} Section {section}\", title_style)\n",
    "\n",
    "table_data = [merged_df.columns.tolist()] + merged_df.values.tolist()\n",
    "\n",
    "table = Table(table_data)\n",
    "\n",
    "style = TableStyle([\n",
    "    ('BACKGROUND', (0, 0), (-1, 0), colors.grey),\n",
    "    ('TEXTCOLOR', (0, 0), (-1, 0), colors.whitesmoke),\n",
    "    ('ALIGN', (0, 0), (-1, -1), 'CENTER'),\n",
    "    ('GRID', (0, 0), (-1, -1), 1, colors.black)\n",
    "])\n",
    "table.setStyle(style)\n",
    "\n",
    "pdf.build([title, table])\n",
    "\n",
    "print(\"PDF created successfully with a title and table.\")\n"
   ]
  }
 ],
 "metadata": {
  "kernelspec": {
   "display_name": "Python 3",
   "language": "python",
   "name": "python3"
  },
  "language_info": {
   "codemirror_mode": {
    "name": "ipython",
    "version": 3
   },
   "file_extension": ".py",
   "mimetype": "text/x-python",
   "name": "python",
   "nbconvert_exporter": "python",
   "pygments_lexer": "ipython3",
   "version": "3.12.3"
  }
 },
 "nbformat": 4,
 "nbformat_minor": 2
}
